{
  "nbformat": 4,
  "nbformat_minor": 0,
  "metadata": {
    "colab": {
      "provenance": [],
      "toc_visible": true,
      "authorship_tag": "ABX9TyO4/ditnzf1vPY30FrTUvKQ",
      "include_colab_link": true
    },
    "kernelspec": {
      "name": "python3",
      "display_name": "Python 3"
    },
    "language_info": {
      "name": "python"
    }
  },
  "cells": [
    {
      "cell_type": "markdown",
      "metadata": {
        "id": "view-in-github",
        "colab_type": "text"
      },
      "source": [
        "<a href=\"https://colab.research.google.com/github/cjzini/cruzadai/blob/main/CruzadAI.ipynb\" target=\"_parent\"><img src=\"https://colab.research.google.com/assets/colab-badge.svg\" alt=\"Open In Colab\"/></a>"
      ]
    },
    {
      "cell_type": "markdown",
      "source": [
        "Instalar o SDK do Google Gemini"
      ],
      "metadata": {
        "id": "ruQLqb_gmuAT"
      }
    },
    {
      "cell_type": "code",
      "source": [
        "!pip install -q -U google-generativeai"
      ],
      "metadata": {
        "id": "dS4flNpxmlaM"
      },
      "execution_count": null,
      "outputs": []
    },
    {
      "cell_type": "code",
      "source": [
        "# Import the Python SDK\n",
        "import google.generativeai as genai\n",
        "\n",
        "from google.colab import userdata\n",
        "API_KEY=userdata.get('SECRET_KEY')\n",
        "genai.configure(api_key=API_KEY)"
      ],
      "metadata": {
        "id": "QiiMF1irm9PU"
      },
      "execution_count": null,
      "outputs": []
    },
    {
      "cell_type": "markdown",
      "source": [
        "Listar os modelos disponíveis"
      ],
      "metadata": {
        "id": "baKcrfbJnFls"
      }
    },
    {
      "cell_type": "code",
      "source": [
        "for m in genai.list_models():\n",
        "  if 'generateContent' in m.supported_generation_methods:\n",
        "    print(m.name)"
      ],
      "metadata": {
        "colab": {
          "base_uri": "https://localhost:8080/",
          "height": 139
        },
        "id": "aJLtOil-nLJb",
        "outputId": "955fb880-4231-4beb-b0ce-eb0157db9bae"
      },
      "execution_count": null,
      "outputs": [
        {
          "output_type": "stream",
          "name": "stdout",
          "text": [
            "models/gemini-1.0-pro\n",
            "models/gemini-1.0-pro-001\n",
            "models/gemini-1.0-pro-latest\n",
            "models/gemini-1.0-pro-vision-latest\n",
            "models/gemini-1.5-pro-latest\n",
            "models/gemini-pro\n",
            "models/gemini-pro-vision\n"
          ]
        }
      ]
    },
    {
      "cell_type": "markdown",
      "source": [
        "Setando variáveis de configuração do modelo"
      ],
      "metadata": {
        "id": "DPt-azoXrvR5"
      }
    },
    {
      "cell_type": "code",
      "source": [
        "generation_config = {\n",
        "    \"candidate_count\" : 1,\n",
        "    \"temperature\" : 0.5,\n",
        "}"
      ],
      "metadata": {
        "id": "XVJjBe2kp2UX"
      },
      "execution_count": null,
      "outputs": []
    },
    {
      "cell_type": "code",
      "source": [
        "safety_settings = {\n",
        "    'HARASSMENT':'block_none',\n",
        "    'HATE' : 'block_none',\n",
        "    'SEXUAL' : 'block_none',\n",
        "}"
      ],
      "metadata": {
        "id": "ejEXUwdJq1d4"
      },
      "execution_count": null,
      "outputs": []
    },
    {
      "cell_type": "markdown",
      "source": [
        "Inicializando o modelo"
      ],
      "metadata": {
        "id": "MGapPJdMr1QB"
      }
    },
    {
      "cell_type": "code",
      "source": [
        "model = genai.GenerativeModel(model_name='gemini-1.0-pro', safety_settings=safety_settings, generation_config=generation_config)"
      ],
      "metadata": {
        "id": "ZU6AnbWBr49J"
      },
      "execution_count": null,
      "outputs": []
    },
    {
      "cell_type": "markdown",
      "source": [
        "Gerar uma resposta com base em um texto"
      ],
      "metadata": {
        "id": "-lxisjrHuk0s"
      }
    },
    {
      "cell_type": "code",
      "source": [
        "response = model.generate_content(\"Me apresente 10 palavras e suas dicas para estudo relacionado a Biologia Celular.\")\n",
        "print(response.text)"
      ],
      "metadata": {
        "colab": {
          "base_uri": "https://localhost:8080/",
          "height": 520
        },
        "id": "NUk9ndrpr40x",
        "outputId": "3386f279-ec1e-4332-c1db-734a0083f341"
      },
      "execution_count": null,
      "outputs": [
        {
          "output_type": "stream",
          "name": "stdout",
          "text": [
            "**1. Célula**\n",
            "* Dica: Unidade básica da vida, com membrana, citoplasma e DNA.\n",
            "\n",
            "**2. Núcleo**\n",
            "* Dica: Estrutura ligada à membrana que contém o DNA.\n",
            "\n",
            "**3. Citoplasma**\n",
            "* Dica: Fluido gelatinoso que preenche a célula, contendo organelas.\n",
            "\n",
            "**4. Mitocôndria**\n",
            "* Dica: Organela produtora de energia conhecida como \"usina da célula\".\n",
            "\n",
            "**5. Retículo Endoplasmático**\n",
            "* Dica: Rede de membranas que se dobra e transporta proteínas.\n",
            "\n",
            "**6. Complexo de Golgi**\n",
            "* Dica: Estrutura que modifica e empacota proteínas para secreção.\n",
            "\n",
            "**7. Ribossomo**\n",
            "* Dica: Organela que sintetiza proteínas a partir do RNA.\n",
            "\n",
            "**8. Membrana Celular**\n",
            "* Dica: Barreira externa que separa a célula do ambiente.\n",
            "\n",
            "**9. Citoesqueleto**\n",
            "* Dica: Rede de fibras que fornece suporte e forma à célula.\n",
            "\n",
            "**10. Vesícula**\n",
            "* Dica: Pequena bolsa ligada à membrana que transporta materiais dentro da célula.\n"
          ]
        }
      ]
    },
    {
      "cell_type": "code",
      "source": [
        "chat = model.start_chat(history=[])"
      ],
      "metadata": {
        "id": "WSW5pQMYximP"
      },
      "execution_count": null,
      "outputs": []
    },
    {
      "cell_type": "code",
      "source": [
        "prompt = input(\"Digite sua pergunta: \")\n",
        "while prompt != \"fim\":\n",
        "  response = chat.send_message(prompt)\n",
        "  print(response.text)\n",
        "  prompt = input(\"Digite sua pergunta: \")"
      ],
      "metadata": {
        "colab": {
          "base_uri": "https://localhost:8080/",
          "height": 356
        },
        "id": "GHXgVzDtx7LX",
        "outputId": "b6602279-ecaf-4841-96c7-d185a95d2d2a"
      },
      "execution_count": null,
      "outputs": [
        {
          "output_type": "error",
          "ename": "KeyboardInterrupt",
          "evalue": "Interrupted by user",
          "traceback": [
            "\u001b[0;31m---------------------------------------------------------------------------\u001b[0m",
            "\u001b[0;31mKeyboardInterrupt\u001b[0m                         Traceback (most recent call last)",
            "\u001b[0;32m<ipython-input-12-2a391fe66649>\u001b[0m in \u001b[0;36m<cell line: 1>\u001b[0;34m()\u001b[0m\n\u001b[0;32m----> 1\u001b[0;31m \u001b[0mprompt\u001b[0m \u001b[0;34m=\u001b[0m \u001b[0minput\u001b[0m\u001b[0;34m(\u001b[0m\u001b[0;34m\"Digite sua pergunta: \"\u001b[0m\u001b[0;34m)\u001b[0m\u001b[0;34m\u001b[0m\u001b[0;34m\u001b[0m\u001b[0m\n\u001b[0m\u001b[1;32m      2\u001b[0m \u001b[0;32mwhile\u001b[0m \u001b[0mprompt\u001b[0m \u001b[0;34m!=\u001b[0m \u001b[0;34m\"fim\"\u001b[0m\u001b[0;34m:\u001b[0m\u001b[0;34m\u001b[0m\u001b[0;34m\u001b[0m\u001b[0m\n\u001b[1;32m      3\u001b[0m   \u001b[0mresponse\u001b[0m \u001b[0;34m=\u001b[0m \u001b[0mchat\u001b[0m\u001b[0;34m.\u001b[0m\u001b[0msend_message\u001b[0m\u001b[0;34m(\u001b[0m\u001b[0mprompt\u001b[0m\u001b[0;34m)\u001b[0m\u001b[0;34m\u001b[0m\u001b[0;34m\u001b[0m\u001b[0m\n\u001b[1;32m      4\u001b[0m   \u001b[0mprint\u001b[0m\u001b[0;34m(\u001b[0m\u001b[0mresponse\u001b[0m\u001b[0;34m.\u001b[0m\u001b[0mtext\u001b[0m\u001b[0;34m)\u001b[0m\u001b[0;34m\u001b[0m\u001b[0;34m\u001b[0m\u001b[0m\n\u001b[1;32m      5\u001b[0m   \u001b[0mprompt\u001b[0m \u001b[0;34m=\u001b[0m \u001b[0minput\u001b[0m\u001b[0;34m(\u001b[0m\u001b[0;34m\"Digite sua pergunta: \"\u001b[0m\u001b[0;34m)\u001b[0m\u001b[0;34m\u001b[0m\u001b[0;34m\u001b[0m\u001b[0m\n",
            "\u001b[0;32m/usr/local/lib/python3.10/dist-packages/ipykernel/kernelbase.py\u001b[0m in \u001b[0;36mraw_input\u001b[0;34m(self, prompt)\u001b[0m\n\u001b[1;32m    849\u001b[0m                 \u001b[0;34m\"raw_input was called, but this frontend does not support input requests.\"\u001b[0m\u001b[0;34m\u001b[0m\u001b[0;34m\u001b[0m\u001b[0m\n\u001b[1;32m    850\u001b[0m             )\n\u001b[0;32m--> 851\u001b[0;31m         return self._input_request(str(prompt),\n\u001b[0m\u001b[1;32m    852\u001b[0m             \u001b[0mself\u001b[0m\u001b[0;34m.\u001b[0m\u001b[0m_parent_ident\u001b[0m\u001b[0;34m,\u001b[0m\u001b[0;34m\u001b[0m\u001b[0;34m\u001b[0m\u001b[0m\n\u001b[1;32m    853\u001b[0m             \u001b[0mself\u001b[0m\u001b[0;34m.\u001b[0m\u001b[0m_parent_header\u001b[0m\u001b[0;34m,\u001b[0m\u001b[0;34m\u001b[0m\u001b[0;34m\u001b[0m\u001b[0m\n",
            "\u001b[0;32m/usr/local/lib/python3.10/dist-packages/ipykernel/kernelbase.py\u001b[0m in \u001b[0;36m_input_request\u001b[0;34m(self, prompt, ident, parent, password)\u001b[0m\n\u001b[1;32m    893\u001b[0m             \u001b[0;32mexcept\u001b[0m \u001b[0mKeyboardInterrupt\u001b[0m\u001b[0;34m:\u001b[0m\u001b[0;34m\u001b[0m\u001b[0;34m\u001b[0m\u001b[0m\n\u001b[1;32m    894\u001b[0m                 \u001b[0;31m# re-raise KeyboardInterrupt, to truncate traceback\u001b[0m\u001b[0;34m\u001b[0m\u001b[0;34m\u001b[0m\u001b[0m\n\u001b[0;32m--> 895\u001b[0;31m                 \u001b[0;32mraise\u001b[0m \u001b[0mKeyboardInterrupt\u001b[0m\u001b[0;34m(\u001b[0m\u001b[0;34m\"Interrupted by user\"\u001b[0m\u001b[0;34m)\u001b[0m \u001b[0;32mfrom\u001b[0m \u001b[0;32mNone\u001b[0m\u001b[0;34m\u001b[0m\u001b[0;34m\u001b[0m\u001b[0m\n\u001b[0m\u001b[1;32m    896\u001b[0m             \u001b[0;32mexcept\u001b[0m \u001b[0mException\u001b[0m \u001b[0;32mas\u001b[0m \u001b[0me\u001b[0m\u001b[0;34m:\u001b[0m\u001b[0;34m\u001b[0m\u001b[0;34m\u001b[0m\u001b[0m\n\u001b[1;32m    897\u001b[0m                 \u001b[0mself\u001b[0m\u001b[0;34m.\u001b[0m\u001b[0mlog\u001b[0m\u001b[0;34m.\u001b[0m\u001b[0mwarning\u001b[0m\u001b[0;34m(\u001b[0m\u001b[0;34m\"Invalid Message:\"\u001b[0m\u001b[0;34m,\u001b[0m \u001b[0mexc_info\u001b[0m\u001b[0;34m=\u001b[0m\u001b[0;32mTrue\u001b[0m\u001b[0;34m)\u001b[0m\u001b[0;34m\u001b[0m\u001b[0;34m\u001b[0m\u001b[0m\n",
            "\u001b[0;31mKeyboardInterrupt\u001b[0m: Interrupted by user"
          ]
        }
      ]
    },
    {
      "cell_type": "code",
      "source": [
        "#Melhorando a visualização\n",
        "#Código disponível em https://ai.google/dev/tutorials/python/quickstart_import_packages\n",
        "import textwrap\n",
        "from IPython.display import display\n",
        "from IPython.display import Markdown\n",
        "\n",
        "def to_markdown(text):\n",
        "  \"\"\"Converter texto simples em markdown formatado.\"\"\"\n",
        "  text = text.replace(\";\", \":\")\n",
        "  return Markdown(textwrap.indent(text, \" > \"))\n",
        "\n",
        "#Imprimindo o histórico\n",
        "for message in chat.history:\n",
        "    display(to_markdown(f\"**{message.role}:** {message.parts[0].text}\"))\n",
        "print()"
      ],
      "metadata": {
        "colab": {
          "base_uri": "https://localhost:8080/",
          "height": 535
        },
        "id": "PkS0UNbtbGUY",
        "outputId": "8975806b-07c7-4ee4-db64-bc772e213230"
      },
      "execution_count": null,
      "outputs": [
        {
          "output_type": "display_data",
          "data": {
            "text/plain": [
              "<IPython.core.display.Markdown object>"
            ],
            "text/markdown": " > **user:** Me apresente 10 palavras e suas dicas para estudo relacionado a História do Brasil. A dica tem que ser uma pergunta ou pista para a pessoa tentar decifrar a palavra.."
          },
          "metadata": {}
        },
        {
          "output_type": "display_data",
          "data": {
            "text/plain": [
              "<IPython.core.display.Markdown object>"
            ],
            "text/markdown": " > **model:** **Palavras:**\n\n > 1. **Bandeirantes**\n > 2. **Inconfidência Mineira**\n > 3. **Independência do Brasil**\n > 4. **Escravidão**\n > 5. **República**\n > 6. **Ditadura Militar**\n > 7. **Redemocratização**\n > 8. **Constituição de 1988**\n > 9. **Lula**\n > 10. **Bolsonaro**\n\n > **Dicas:**\n\n > 1. Quem eram os aventureiros que exploraram o interior do Brasil no século XVII?\n > 2. Qual foi a conspiração que visava a independência de Minas Gerais no século XVIII?\n > 3. Em que ano o Brasil se tornou independente de Portugal?\n > 4. Qual foi a instituição social que marcou profundamente a história brasileira?\n > 5. Qual é o sistema de governo em que o chefe de Estado é eleito pelo povo?\n > 6. Qual foi o período de governo autoritário que ocorreu no Brasil entre 1964 e 1985?\n > 7. Quando o Brasil retornou ao regime democrático?\n > 8. Qual é o documento que estabelece os direitos e deveres dos cidadãos brasileiros?\n > 9. Quem foi o primeiro presidente do Brasil eleito após a Ditadura Militar?\n > 10. Quem é o atual presidente do Brasil?"
          },
          "metadata": {}
        },
        {
          "output_type": "stream",
          "name": "stdout",
          "text": [
            "\n"
          ]
        }
      ]
    }
  ]
}